{
 "cells": [
  {
   "cell_type": "code",
   "execution_count": 2,
   "id": "dabbc53e",
   "metadata": {},
   "outputs": [],
   "source": [
    "# Python - Question 02\n",
    "# Find nth fibonacci number. If it starts with 0,1,1,2.....\n",
    "# Also, Print Incorrect Input if n is less than or equal to 0.\n",
    "# Input Format:\n",
    "# Call the function with n\n",
    "# Output Format:\n",
    "# Print the nth fibonacci number\n",
    "# Sample Input 0:\n",
    "# 4\n",
    "# Sample Output 0:\n",
    "# 2\n",
    "# Sample Input 1:\n",
    "# 0\n",
    "# Sample Output 1:\n",
    "# Incorrect input"
   ]
  },
  {
   "cell_type": "code",
   "execution_count": 68,
   "id": "1e8c5c57",
   "metadata": {},
   "outputs": [
    {
     "name": "stdout",
     "output_type": "stream",
     "text": [
      "Enter the nth term you want: 10\n"
     ]
    },
    {
     "data": {
      "text/plain": [
       "34"
      ]
     },
     "execution_count": 68,
     "metadata": {},
     "output_type": "execute_result"
    }
   ],
   "source": [
    "def fibonacci(n):\n",
    "    if n > 0:\n",
    "        f_series= []\n",
    "        a= 0\n",
    "        b= 1\n",
    "        c=a+b\n",
    "        for i in range(n):\n",
    "            f_series.append(a)\n",
    "            a=b\n",
    "            b=c\n",
    "            c=a+b\n",
    "        return f_series[-1]\n",
    "    else:\n",
    "        return \"Incorrect input\"\n",
    "\n",
    "number= int(input(\"Enter the nth term you want: \"))\n",
    "fibonacci(number)"
   ]
  },
  {
   "cell_type": "code",
   "execution_count": null,
   "id": "7fdc5f82",
   "metadata": {},
   "outputs": [],
   "source": []
  }
 ],
 "metadata": {
  "kernelspec": {
   "display_name": "Python 3 (ipykernel)",
   "language": "python",
   "name": "python3"
  },
  "language_info": {
   "codemirror_mode": {
    "name": "ipython",
    "version": 3
   },
   "file_extension": ".py",
   "mimetype": "text/x-python",
   "name": "python",
   "nbconvert_exporter": "python",
   "pygments_lexer": "ipython3",
   "version": "3.9.12"
  }
 },
 "nbformat": 4,
 "nbformat_minor": 5
}
